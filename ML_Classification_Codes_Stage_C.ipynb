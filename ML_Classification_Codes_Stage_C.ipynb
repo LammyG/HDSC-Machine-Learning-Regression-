{
  "nbformat": 4,
  "nbformat_minor": 0,
  "metadata": {
    "colab": {
      "name": "ML Classification Codes Stage C.ipynb",
      "provenance": [],
      "collapsed_sections": [],
      "authorship_tag": "ABX9TyPjAhHg/joKMY42TmXX+69y",
      "include_colab_link": true
    },
    "kernelspec": {
      "name": "python3",
      "display_name": "Python 3"
    },
    "language_info": {
      "name": "python"
    }
  },
  "cells": [
    {
      "cell_type": "markdown",
      "metadata": {
        "id": "view-in-github",
        "colab_type": "text"
      },
      "source": [
        "<a href=\"https://colab.research.google.com/github/LammyG/HDSC-Machine-Learning-Regression-/blob/main/ML_Classification_Codes_Stage_C.ipynb\" target=\"_parent\"><img src=\"https://colab.research.google.com/assets/colab-badge.svg\" alt=\"Open In Colab\"/></a>"
      ]
    },
    {
      "cell_type": "code",
      "source": [
        "import numpy as np\n",
        "import pandas as pd\n",
        "import seaborn as sns\n",
        "!pip install -U openpyxl\n",
        "!pip install catboost\n",
        "!pip install fitter\n",
        "from fitter import Fitter, get_common_distributions, get_distributions"
      ],
      "metadata": {
        "colab": {
          "base_uri": "https://localhost:8080/"
        },
        "id": "uhAcSdp_W9n2",
        "outputId": "0067d813-a9f2-48d7-de55-8ac4a98c83a7"
      },
      "execution_count": 1,
      "outputs": [
        {
          "output_type": "stream",
          "name": "stdout",
          "text": [
            "Requirement already satisfied: openpyxl in /usr/local/lib/python3.7/dist-packages (3.0.9)\n",
            "Requirement already satisfied: et-xmlfile in /usr/local/lib/python3.7/dist-packages (from openpyxl) (1.1.0)\n",
            "Collecting catboost\n",
            "  Downloading catboost-1.0.4-cp37-none-manylinux1_x86_64.whl (76.1 MB)\n",
            "\u001b[K     |████████████████████████████████| 76.1 MB 1.2 MB/s \n",
            "\u001b[?25hRequirement already satisfied: six in /usr/local/lib/python3.7/dist-packages (from catboost) (1.15.0)\n",
            "Requirement already satisfied: pandas>=0.24.0 in /usr/local/lib/python3.7/dist-packages (from catboost) (1.3.5)\n",
            "Requirement already satisfied: numpy>=1.16.0 in /usr/local/lib/python3.7/dist-packages (from catboost) (1.21.5)\n",
            "Requirement already satisfied: matplotlib in /usr/local/lib/python3.7/dist-packages (from catboost) (3.2.2)\n",
            "Requirement already satisfied: graphviz in /usr/local/lib/python3.7/dist-packages (from catboost) (0.10.1)\n",
            "Requirement already satisfied: scipy in /usr/local/lib/python3.7/dist-packages (from catboost) (1.4.1)\n",
            "Requirement already satisfied: plotly in /usr/local/lib/python3.7/dist-packages (from catboost) (5.5.0)\n",
            "Requirement already satisfied: pytz>=2017.3 in /usr/local/lib/python3.7/dist-packages (from pandas>=0.24.0->catboost) (2018.9)\n",
            "Requirement already satisfied: python-dateutil>=2.7.3 in /usr/local/lib/python3.7/dist-packages (from pandas>=0.24.0->catboost) (2.8.2)\n",
            "Requirement already satisfied: pyparsing!=2.0.4,!=2.1.2,!=2.1.6,>=2.0.1 in /usr/local/lib/python3.7/dist-packages (from matplotlib->catboost) (3.0.7)\n",
            "Requirement already satisfied: kiwisolver>=1.0.1 in /usr/local/lib/python3.7/dist-packages (from matplotlib->catboost) (1.3.2)\n",
            "Requirement already satisfied: cycler>=0.10 in /usr/local/lib/python3.7/dist-packages (from matplotlib->catboost) (0.11.0)\n",
            "Requirement already satisfied: tenacity>=6.2.0 in /usr/local/lib/python3.7/dist-packages (from plotly->catboost) (8.0.1)\n",
            "Installing collected packages: catboost\n",
            "Successfully installed catboost-1.0.4\n",
            "Collecting fitter\n",
            "  Downloading fitter-1.4.0.tar.gz (27 kB)\n",
            "Collecting easydev\n",
            "  Downloading easydev-0.12.0.tar.gz (47 kB)\n",
            "\u001b[K     |████████████████████████████████| 47 kB 3.8 MB/s \n",
            "\u001b[?25hRequirement already satisfied: numpy in /usr/local/lib/python3.7/dist-packages (from fitter) (1.21.5)\n",
            "Requirement already satisfied: matplotlib in /usr/local/lib/python3.7/dist-packages (from fitter) (3.2.2)\n",
            "Requirement already satisfied: scipy>=0.18 in /usr/local/lib/python3.7/dist-packages (from fitter) (1.4.1)\n",
            "Requirement already satisfied: pandas in /usr/local/lib/python3.7/dist-packages (from fitter) (1.3.5)\n",
            "Requirement already satisfied: click in /usr/local/lib/python3.7/dist-packages (from fitter) (7.1.2)\n",
            "Requirement already satisfied: joblib in /usr/local/lib/python3.7/dist-packages (from fitter) (1.1.0)\n",
            "Collecting colorama\n",
            "  Downloading colorama-0.4.4-py2.py3-none-any.whl (16 kB)\n",
            "Requirement already satisfied: pexpect in /usr/local/lib/python3.7/dist-packages (from easydev->fitter) (4.8.0)\n",
            "Collecting colorlog\n",
            "  Downloading colorlog-6.6.0-py2.py3-none-any.whl (11 kB)\n",
            "Requirement already satisfied: kiwisolver>=1.0.1 in /usr/local/lib/python3.7/dist-packages (from matplotlib->fitter) (1.3.2)\n",
            "Requirement already satisfied: python-dateutil>=2.1 in /usr/local/lib/python3.7/dist-packages (from matplotlib->fitter) (2.8.2)\n",
            "Requirement already satisfied: pyparsing!=2.0.4,!=2.1.2,!=2.1.6,>=2.0.1 in /usr/local/lib/python3.7/dist-packages (from matplotlib->fitter) (3.0.7)\n",
            "Requirement already satisfied: cycler>=0.10 in /usr/local/lib/python3.7/dist-packages (from matplotlib->fitter) (0.11.0)\n",
            "Requirement already satisfied: six>=1.5 in /usr/local/lib/python3.7/dist-packages (from python-dateutil>=2.1->matplotlib->fitter) (1.15.0)\n",
            "Requirement already satisfied: pytz>=2017.3 in /usr/local/lib/python3.7/dist-packages (from pandas->fitter) (2018.9)\n",
            "Requirement already satisfied: ptyprocess>=0.5 in /usr/local/lib/python3.7/dist-packages (from pexpect->easydev->fitter) (0.7.0)\n",
            "Building wheels for collected packages: fitter, easydev\n",
            "  Building wheel for fitter (setup.py) ... \u001b[?25l\u001b[?25hdone\n",
            "  Created wheel for fitter: filename=fitter-1.4.0-py3-none-any.whl size=25026 sha256=b2b65c3976a457b6bf2e9fe5957cc8d7d5a89a598d943a4d41336c7df1981f57\n",
            "  Stored in directory: /root/.cache/pip/wheels/e1/98/16/e5263962f94fbfaad79902aa94652516caccc1f1d51509e853\n",
            "  Building wheel for easydev (setup.py) ... \u001b[?25l\u001b[?25hdone\n",
            "  Created wheel for easydev: filename=easydev-0.12.0-py3-none-any.whl size=64232 sha256=38c313a8e549dad77fc5ecb9026600083c108f9e702834824da7d1c351f3a64e\n",
            "  Stored in directory: /root/.cache/pip/wheels/82/ab/83/fdfc4017ea44a585b6754752cc5f63f2d0d63fcc1317e7174b\n",
            "Successfully built fitter easydev\n",
            "Installing collected packages: colorlog, colorama, easydev, fitter\n",
            "Successfully installed colorama-0.4.4 colorlog-6.6.0 easydev-0.12.0 fitter-1.4.0\n"
          ]
        }
      ]
    },
    {
      "cell_type": "code",
      "source": [
        "df = pd.read_csv('https://query.data.world/s/wh6j7rxy2hvrn4ml75ci62apk5hgae')\n"
      ],
      "metadata": {
        "id": "wtnILJTjWHwE",
        "colab": {
          "base_uri": "https://localhost:8080/"
        },
        "outputId": "fbacb326-7bb5-47ef-88c2-4784cb15bc23"
      },
      "execution_count": 2,
      "outputs": [
        {
          "output_type": "stream",
          "name": "stderr",
          "text": [
            "/usr/local/lib/python3.7/dist-packages/IPython/core/interactiveshell.py:2882: DtypeWarning: Columns (6) have mixed types.Specify dtype option on import or set low_memory=False.\n",
            "  exec(code_obj, self.user_global_ns, self.user_ns)\n"
          ]
        }
      ]
    },
    {
      "cell_type": "code",
      "source": [
        "#data url\n",
        "url = ('https://query.data.world/s/wh6j7rxy2hvrn4ml75ci62apk5hgae')"
      ],
      "metadata": {
        "id": "YfUirANDp5nY"
      },
      "execution_count": 3,
      "outputs": []
    },
    {
      "cell_type": "code",
      "source": [
        "df = pd.read_csv(url, low_memory=False)\n",
        "df.head()"
      ],
      "metadata": {
        "colab": {
          "base_uri": "https://localhost:8080/",
          "height": 206
        },
        "id": "VtIJG0-Bq5-Y",
        "outputId": "d027713e-78f6-4ec4-aa19-90cf5acc769d"
      },
      "execution_count": 4,
      "outputs": [
        {
          "output_type": "execute_result",
          "data": {
            "text/html": [
              "\n",
              "  <div id=\"df-f8394d52-7565-4edc-9fbf-0e7da7c10a0c\">\n",
              "    <div class=\"colab-df-container\">\n",
              "      <div>\n",
              "<style scoped>\n",
              "    .dataframe tbody tr th:only-of-type {\n",
              "        vertical-align: middle;\n",
              "    }\n",
              "\n",
              "    .dataframe tbody tr th {\n",
              "        vertical-align: top;\n",
              "    }\n",
              "\n",
              "    .dataframe thead th {\n",
              "        text-align: right;\n",
              "    }\n",
              "</style>\n",
              "<table border=\"1\" class=\"dataframe\">\n",
              "  <thead>\n",
              "    <tr style=\"text-align: right;\">\n",
              "      <th></th>\n",
              "      <th>country</th>\n",
              "      <th>year</th>\n",
              "      <th>country_code</th>\n",
              "      <th>record</th>\n",
              "      <th>crop_land</th>\n",
              "      <th>grazing_land</th>\n",
              "      <th>forest_land</th>\n",
              "      <th>fishing_ground</th>\n",
              "      <th>built_up_land</th>\n",
              "      <th>carbon</th>\n",
              "      <th>total</th>\n",
              "      <th>QScore</th>\n",
              "    </tr>\n",
              "  </thead>\n",
              "  <tbody>\n",
              "    <tr>\n",
              "      <th>0</th>\n",
              "      <td>Armenia</td>\n",
              "      <td>1992</td>\n",
              "      <td>1</td>\n",
              "      <td>AreaPerCap</td>\n",
              "      <td>0.140292</td>\n",
              "      <td>0.199546</td>\n",
              "      <td>0.097188051</td>\n",
              "      <td>0.036888</td>\n",
              "      <td>0.029320</td>\n",
              "      <td>0.000000</td>\n",
              "      <td>5.032351e-01</td>\n",
              "      <td>3A</td>\n",
              "    </tr>\n",
              "    <tr>\n",
              "      <th>1</th>\n",
              "      <td>Armenia</td>\n",
              "      <td>1992</td>\n",
              "      <td>1</td>\n",
              "      <td>AreaTotHA</td>\n",
              "      <td>483000.000000</td>\n",
              "      <td>687000.000000</td>\n",
              "      <td>334600</td>\n",
              "      <td>127000.000000</td>\n",
              "      <td>100943.000800</td>\n",
              "      <td>0.000000</td>\n",
              "      <td>1.732543e+06</td>\n",
              "      <td>3A</td>\n",
              "    </tr>\n",
              "    <tr>\n",
              "      <th>2</th>\n",
              "      <td>Armenia</td>\n",
              "      <td>1992</td>\n",
              "      <td>1</td>\n",
              "      <td>BiocapPerCap</td>\n",
              "      <td>0.159804</td>\n",
              "      <td>0.135261</td>\n",
              "      <td>0.084003213</td>\n",
              "      <td>0.013742</td>\n",
              "      <td>0.033398</td>\n",
              "      <td>0.000000</td>\n",
              "      <td>4.262086e-01</td>\n",
              "      <td>3A</td>\n",
              "    </tr>\n",
              "    <tr>\n",
              "      <th>3</th>\n",
              "      <td>Armenia</td>\n",
              "      <td>1992</td>\n",
              "      <td>1</td>\n",
              "      <td>BiocapTotGHA</td>\n",
              "      <td>550176.242700</td>\n",
              "      <td>465677.972200</td>\n",
              "      <td>289207.1078</td>\n",
              "      <td>47311.551720</td>\n",
              "      <td>114982.279300</td>\n",
              "      <td>0.000000</td>\n",
              "      <td>1.467355e+06</td>\n",
              "      <td>3A</td>\n",
              "    </tr>\n",
              "    <tr>\n",
              "      <th>4</th>\n",
              "      <td>Armenia</td>\n",
              "      <td>1992</td>\n",
              "      <td>1</td>\n",
              "      <td>EFConsPerCap</td>\n",
              "      <td>0.387510</td>\n",
              "      <td>0.189462</td>\n",
              "      <td>1.26E-06</td>\n",
              "      <td>0.004165</td>\n",
              "      <td>0.033398</td>\n",
              "      <td>1.114093</td>\n",
              "      <td>1.728629e+00</td>\n",
              "      <td>3A</td>\n",
              "    </tr>\n",
              "  </tbody>\n",
              "</table>\n",
              "</div>\n",
              "      <button class=\"colab-df-convert\" onclick=\"convertToInteractive('df-f8394d52-7565-4edc-9fbf-0e7da7c10a0c')\"\n",
              "              title=\"Convert this dataframe to an interactive table.\"\n",
              "              style=\"display:none;\">\n",
              "        \n",
              "  <svg xmlns=\"http://www.w3.org/2000/svg\" height=\"24px\"viewBox=\"0 0 24 24\"\n",
              "       width=\"24px\">\n",
              "    <path d=\"M0 0h24v24H0V0z\" fill=\"none\"/>\n",
              "    <path d=\"M18.56 5.44l.94 2.06.94-2.06 2.06-.94-2.06-.94-.94-2.06-.94 2.06-2.06.94zm-11 1L8.5 8.5l.94-2.06 2.06-.94-2.06-.94L8.5 2.5l-.94 2.06-2.06.94zm10 10l.94 2.06.94-2.06 2.06-.94-2.06-.94-.94-2.06-.94 2.06-2.06.94z\"/><path d=\"M17.41 7.96l-1.37-1.37c-.4-.4-.92-.59-1.43-.59-.52 0-1.04.2-1.43.59L10.3 9.45l-7.72 7.72c-.78.78-.78 2.05 0 2.83L4 21.41c.39.39.9.59 1.41.59.51 0 1.02-.2 1.41-.59l7.78-7.78 2.81-2.81c.8-.78.8-2.07 0-2.86zM5.41 20L4 18.59l7.72-7.72 1.47 1.35L5.41 20z\"/>\n",
              "  </svg>\n",
              "      </button>\n",
              "      \n",
              "  <style>\n",
              "    .colab-df-container {\n",
              "      display:flex;\n",
              "      flex-wrap:wrap;\n",
              "      gap: 12px;\n",
              "    }\n",
              "\n",
              "    .colab-df-convert {\n",
              "      background-color: #E8F0FE;\n",
              "      border: none;\n",
              "      border-radius: 50%;\n",
              "      cursor: pointer;\n",
              "      display: none;\n",
              "      fill: #1967D2;\n",
              "      height: 32px;\n",
              "      padding: 0 0 0 0;\n",
              "      width: 32px;\n",
              "    }\n",
              "\n",
              "    .colab-df-convert:hover {\n",
              "      background-color: #E2EBFA;\n",
              "      box-shadow: 0px 1px 2px rgba(60, 64, 67, 0.3), 0px 1px 3px 1px rgba(60, 64, 67, 0.15);\n",
              "      fill: #174EA6;\n",
              "    }\n",
              "\n",
              "    [theme=dark] .colab-df-convert {\n",
              "      background-color: #3B4455;\n",
              "      fill: #D2E3FC;\n",
              "    }\n",
              "\n",
              "    [theme=dark] .colab-df-convert:hover {\n",
              "      background-color: #434B5C;\n",
              "      box-shadow: 0px 1px 3px 1px rgba(0, 0, 0, 0.15);\n",
              "      filter: drop-shadow(0px 1px 2px rgba(0, 0, 0, 0.3));\n",
              "      fill: #FFFFFF;\n",
              "    }\n",
              "  </style>\n",
              "\n",
              "      <script>\n",
              "        const buttonEl =\n",
              "          document.querySelector('#df-f8394d52-7565-4edc-9fbf-0e7da7c10a0c button.colab-df-convert');\n",
              "        buttonEl.style.display =\n",
              "          google.colab.kernel.accessAllowed ? 'block' : 'none';\n",
              "\n",
              "        async function convertToInteractive(key) {\n",
              "          const element = document.querySelector('#df-f8394d52-7565-4edc-9fbf-0e7da7c10a0c');\n",
              "          const dataTable =\n",
              "            await google.colab.kernel.invokeFunction('convertToInteractive',\n",
              "                                                     [key], {});\n",
              "          if (!dataTable) return;\n",
              "\n",
              "          const docLinkHtml = 'Like what you see? Visit the ' +\n",
              "            '<a target=\"_blank\" href=https://colab.research.google.com/notebooks/data_table.ipynb>data table notebook</a>'\n",
              "            + ' to learn more about interactive tables.';\n",
              "          element.innerHTML = '';\n",
              "          dataTable['output_type'] = 'display_data';\n",
              "          await google.colab.output.renderOutput(dataTable, element);\n",
              "          const docLink = document.createElement('div');\n",
              "          docLink.innerHTML = docLinkHtml;\n",
              "          element.appendChild(docLink);\n",
              "        }\n",
              "      </script>\n",
              "    </div>\n",
              "  </div>\n",
              "  "
            ],
            "text/plain": [
              "   country  year  country_code        record      crop_land   grazing_land  \\\n",
              "0  Armenia  1992             1    AreaPerCap       0.140292       0.199546   \n",
              "1  Armenia  1992             1     AreaTotHA  483000.000000  687000.000000   \n",
              "2  Armenia  1992             1  BiocapPerCap       0.159804       0.135261   \n",
              "3  Armenia  1992             1  BiocapTotGHA  550176.242700  465677.972200   \n",
              "4  Armenia  1992             1  EFConsPerCap       0.387510       0.189462   \n",
              "\n",
              "   forest_land  fishing_ground  built_up_land    carbon         total QScore  \n",
              "0  0.097188051        0.036888       0.029320  0.000000  5.032351e-01     3A  \n",
              "1       334600   127000.000000  100943.000800  0.000000  1.732543e+06     3A  \n",
              "2  0.084003213        0.013742       0.033398  0.000000  4.262086e-01     3A  \n",
              "3  289207.1078    47311.551720  114982.279300  0.000000  1.467355e+06     3A  \n",
              "4     1.26E-06        0.004165       0.033398  1.114093  1.728629e+00     3A  "
            ]
          },
          "metadata": {},
          "execution_count": 4
        }
      ]
    },
    {
      "cell_type": "code",
      "source": [
        "import sklearn as sn\n",
        "import sklearn.preprocessing as pp\n",
        "import sklearn.linear_model as Lm\n",
        "import sklearn.model_selection as Ms\n",
        "import sklearn.metrics as snms\n"
      ],
      "metadata": {
        "id": "HmfHm16Natqt"
      },
      "execution_count": 5,
      "outputs": []
    },
    {
      "cell_type": "code",
      "source": [
        "#check distribution of target variable\n",
        "#prints\n",
        "df['QScore'].value_counts()"
      ],
      "metadata": {
        "id": "SCaJEMXrrv8l",
        "colab": {
          "base_uri": "https://localhost:8080/"
        },
        "outputId": "b57be776-4ca3-4108-c416-1be5f6d018f6"
      },
      "execution_count": 6,
      "outputs": [
        {
          "output_type": "execute_result",
          "data": {
            "text/plain": [
              "3A    51481\n",
              "2A    10576\n",
              "2B    10096\n",
              "1A       16\n",
              "1B       16\n",
              "Name: QScore, dtype: int64"
            ]
          },
          "metadata": {},
          "execution_count": 6
        }
      ]
    },
    {
      "cell_type": "code",
      "source": [
        "#check for missing values in the dataset\n",
        "df.isna().sum()"
      ],
      "metadata": {
        "colab": {
          "base_uri": "https://localhost:8080/"
        },
        "id": "aDyCkxGIuA8Z",
        "outputId": "ed3091c9-e663-4501-fa41-baa178f64d9e"
      },
      "execution_count": 7,
      "outputs": [
        {
          "output_type": "execute_result",
          "data": {
            "text/plain": [
              "country               0\n",
              "year                  0\n",
              "country_code          0\n",
              "record                0\n",
              "crop_land         20472\n",
              "grazing_land      20472\n",
              "forest_land       20472\n",
              "fishing_ground    20473\n",
              "built_up_land     20473\n",
              "carbon            20473\n",
              "total                 9\n",
              "QScore                1\n",
              "dtype: int64"
            ]
          },
          "metadata": {},
          "execution_count": 7
        }
      ]
    },
    {
      "cell_type": "code",
      "source": [
        "import sklearn.utils\n",
        "df['QScore'].value_counts()\n",
        "df.isna().sum()\n",
        "#for simplicity, we will drop the rows with missing values.\n",
        "df = df.dropna()\n",
        "df.isna().sum()"
      ],
      "metadata": {
        "colab": {
          "base_uri": "https://localhost:8080/"
        },
        "id": "jleQkMZmru1C",
        "outputId": "7f92d474-696e-453d-a3ec-a780bbf56a4e"
      },
      "execution_count": 9,
      "outputs": [
        {
          "output_type": "execute_result",
          "data": {
            "text/plain": [
              "country           0\n",
              "year              0\n",
              "country_code      0\n",
              "record            0\n",
              "crop_land         0\n",
              "grazing_land      0\n",
              "forest_land       0\n",
              "fishing_ground    0\n",
              "built_up_land     0\n",
              "carbon            0\n",
              "total             0\n",
              "QScore            0\n",
              "dtype: int64"
            ]
          },
          "metadata": {},
          "execution_count": 9
        }
      ]
    },
    {
      "cell_type": "code",
      "source": [
        "#lets do value count again\n",
        "df.QScore.value_counts()"
      ],
      "metadata": {
        "colab": {
          "base_uri": "https://localhost:8080/"
        },
        "id": "GS_jJKqWvvQN",
        "outputId": "6bfde077-6698-4519-dfe1-23f039ce765c"
      },
      "execution_count": 10,
      "outputs": [
        {
          "output_type": "execute_result",
          "data": {
            "text/plain": [
              "3A    51473\n",
              "2A      224\n",
              "1A       16\n",
              "Name: QScore, dtype: int64"
            ]
          },
          "metadata": {},
          "execution_count": 10
        }
      ]
    },
    {
      "cell_type": "code",
      "source": [
        "\n",
        "#reset the dataframe index\n",
        "df = df.reset_index(drop=True)"
      ],
      "metadata": {
        "id": "SfuvnwN_wLzU"
      },
      "execution_count": 11,
      "outputs": []
    },
    {
      "cell_type": "code",
      "source": [
        "#then convert to binary classification by combining 2A and 1A\n",
        "df['QScore'] = df['QScore'].replace(['1A'], '2A')\n",
        "df.QScore.value_counts()"
      ],
      "metadata": {
        "colab": {
          "base_uri": "https://localhost:8080/"
        },
        "id": "BBbYRxFaXwND",
        "outputId": "d255d05b-6574-46c6-a48f-4ec48e7a97ae"
      },
      "execution_count": 12,
      "outputs": [
        {
          "output_type": "execute_result",
          "data": {
            "text/plain": [
              "3A    51473\n",
              "2A      240\n",
              "Name: QScore, dtype: int64"
            ]
          },
          "metadata": {},
          "execution_count": 12
        }
      ]
    },
    {
      "cell_type": "code",
      "source": [
        "#seperating the target variable and\n",
        "#selecting some samples\n",
        "df_2A = df[df.QScore=='2A']\n",
        "df_3A = df[df.QScore=='3A'].sample(350)\n",
        "data_df = df_2A.append(df_3A)\n",
        "data_df"
      ],
      "metadata": {
        "id": "TihsEuopaeBn",
        "colab": {
          "base_uri": "https://localhost:8080/",
          "height": 523
        },
        "outputId": "5173cf16-a9a4-4012-9058-2da9ec1fe703"
      },
      "execution_count": 13,
      "outputs": [
        {
          "output_type": "execute_result",
          "data": {
            "text/html": [
              "\n",
              "  <div id=\"df-95ddc6cc-3105-4a31-8bdb-bc1347e38707\">\n",
              "    <div class=\"colab-df-container\">\n",
              "      <div>\n",
              "<style scoped>\n",
              "    .dataframe tbody tr th:only-of-type {\n",
              "        vertical-align: middle;\n",
              "    }\n",
              "\n",
              "    .dataframe tbody tr th {\n",
              "        vertical-align: top;\n",
              "    }\n",
              "\n",
              "    .dataframe thead th {\n",
              "        text-align: right;\n",
              "    }\n",
              "</style>\n",
              "<table border=\"1\" class=\"dataframe\">\n",
              "  <thead>\n",
              "    <tr style=\"text-align: right;\">\n",
              "      <th></th>\n",
              "      <th>country</th>\n",
              "      <th>year</th>\n",
              "      <th>country_code</th>\n",
              "      <th>record</th>\n",
              "      <th>crop_land</th>\n",
              "      <th>grazing_land</th>\n",
              "      <th>forest_land</th>\n",
              "      <th>fishing_ground</th>\n",
              "      <th>built_up_land</th>\n",
              "      <th>carbon</th>\n",
              "      <th>total</th>\n",
              "      <th>QScore</th>\n",
              "    </tr>\n",
              "  </thead>\n",
              "  <tbody>\n",
              "    <tr>\n",
              "      <th>1096</th>\n",
              "      <td>Algeria</td>\n",
              "      <td>2016</td>\n",
              "      <td>4</td>\n",
              "      <td>AreaPerCap</td>\n",
              "      <td>2.072989e-01</td>\n",
              "      <td>8.112722e-01</td>\n",
              "      <td>0.048357265</td>\n",
              "      <td>0.022585</td>\n",
              "      <td>2.998367e-02</td>\n",
              "      <td>0.000000</td>\n",
              "      <td>1.119497e+00</td>\n",
              "      <td>2A</td>\n",
              "    </tr>\n",
              "    <tr>\n",
              "      <th>1097</th>\n",
              "      <td>Algeria</td>\n",
              "      <td>2016</td>\n",
              "      <td>4</td>\n",
              "      <td>AreaTotHA</td>\n",
              "      <td>8.417600e+06</td>\n",
              "      <td>3.294260e+07</td>\n",
              "      <td>1963600</td>\n",
              "      <td>917100.000000</td>\n",
              "      <td>1.217520e+06</td>\n",
              "      <td>0.000000</td>\n",
              "      <td>4.545842e+07</td>\n",
              "      <td>2A</td>\n",
              "    </tr>\n",
              "    <tr>\n",
              "      <th>1098</th>\n",
              "      <td>Algeria</td>\n",
              "      <td>2016</td>\n",
              "      <td>4</td>\n",
              "      <td>BiocapPerCap</td>\n",
              "      <td>2.021916e-01</td>\n",
              "      <td>2.636077e-01</td>\n",
              "      <td>0.027166736</td>\n",
              "      <td>0.007948</td>\n",
              "      <td>2.924496e-02</td>\n",
              "      <td>0.000000</td>\n",
              "      <td>5.301590e-01</td>\n",
              "      <td>2A</td>\n",
              "    </tr>\n",
              "    <tr>\n",
              "      <th>1099</th>\n",
              "      <td>Algeria</td>\n",
              "      <td>2016</td>\n",
              "      <td>4</td>\n",
              "      <td>BiocapTotGHA</td>\n",
              "      <td>8.210214e+06</td>\n",
              "      <td>1.070408e+07</td>\n",
              "      <td>1103135.245</td>\n",
              "      <td>322736.916200</td>\n",
              "      <td>1.187524e+06</td>\n",
              "      <td>0.000000</td>\n",
              "      <td>2.152769e+07</td>\n",
              "      <td>2A</td>\n",
              "    </tr>\n",
              "    <tr>\n",
              "      <th>1100</th>\n",
              "      <td>Algeria</td>\n",
              "      <td>2016</td>\n",
              "      <td>4</td>\n",
              "      <td>EFConsPerCap</td>\n",
              "      <td>6.280528e-01</td>\n",
              "      <td>1.810332e-01</td>\n",
              "      <td>0.162800822</td>\n",
              "      <td>0.014729</td>\n",
              "      <td>2.924496e-02</td>\n",
              "      <td>1.391455</td>\n",
              "      <td>2.407316e+00</td>\n",
              "      <td>2A</td>\n",
              "    </tr>\n",
              "    <tr>\n",
              "      <th>...</th>\n",
              "      <td>...</td>\n",
              "      <td>...</td>\n",
              "      <td>...</td>\n",
              "      <td>...</td>\n",
              "      <td>...</td>\n",
              "      <td>...</td>\n",
              "      <td>...</td>\n",
              "      <td>...</td>\n",
              "      <td>...</td>\n",
              "      <td>...</td>\n",
              "      <td>...</td>\n",
              "      <td>...</td>\n",
              "    </tr>\n",
              "    <tr>\n",
              "      <th>11414</th>\n",
              "      <td>Cuba</td>\n",
              "      <td>1984</td>\n",
              "      <td>49</td>\n",
              "      <td>EFProdPerCap</td>\n",
              "      <td>4.150308e-01</td>\n",
              "      <td>1.000905e-01</td>\n",
              "      <td>0.130761699</td>\n",
              "      <td>0.172790</td>\n",
              "      <td>3.659940e-02</td>\n",
              "      <td>1.233352</td>\n",
              "      <td>2.088625e+00</td>\n",
              "      <td>3A</td>\n",
              "    </tr>\n",
              "    <tr>\n",
              "      <th>42819</th>\n",
              "      <td>Tanzania, United Republic of</td>\n",
              "      <td>2008</td>\n",
              "      <td>215</td>\n",
              "      <td>BiocapPerCap</td>\n",
              "      <td>3.430778e-01</td>\n",
              "      <td>3.740505e-01</td>\n",
              "      <td>0.193148826</td>\n",
              "      <td>0.067748</td>\n",
              "      <td>4.556231e-02</td>\n",
              "      <td>0.000000</td>\n",
              "      <td>1.023587e+00</td>\n",
              "      <td>3A</td>\n",
              "    </tr>\n",
              "    <tr>\n",
              "      <th>6847</th>\n",
              "      <td>Burundi</td>\n",
              "      <td>1973</td>\n",
              "      <td>29</td>\n",
              "      <td>EFProdTotGHA</td>\n",
              "      <td>1.790073e+06</td>\n",
              "      <td>6.725663e+05</td>\n",
              "      <td>1559485.15</td>\n",
              "      <td>35817.608240</td>\n",
              "      <td>1.277430e+05</td>\n",
              "      <td>26565.285310</td>\n",
              "      <td>4.212251e+06</td>\n",
              "      <td>3A</td>\n",
              "    </tr>\n",
              "    <tr>\n",
              "      <th>521</th>\n",
              "      <td>Afghanistan</td>\n",
              "      <td>2001</td>\n",
              "      <td>2</td>\n",
              "      <td>AreaTotHA</td>\n",
              "      <td>7.753000e+06</td>\n",
              "      <td>3.000000e+07</td>\n",
              "      <td>1350000</td>\n",
              "      <td>0.000000</td>\n",
              "      <td>9.422190e+05</td>\n",
              "      <td>0.000000</td>\n",
              "      <td>4.004522e+07</td>\n",
              "      <td>3A</td>\n",
              "    </tr>\n",
              "    <tr>\n",
              "      <th>19532</th>\n",
              "      <td>India</td>\n",
              "      <td>1998</td>\n",
              "      <td>100</td>\n",
              "      <td>EFConsPerCap</td>\n",
              "      <td>3.461404e-01</td>\n",
              "      <td>8.512985e-03</td>\n",
              "      <td>0.1400516</td>\n",
              "      <td>0.017039</td>\n",
              "      <td>3.869196e-02</td>\n",
              "      <td>0.310489</td>\n",
              "      <td>8.609249e-01</td>\n",
              "      <td>3A</td>\n",
              "    </tr>\n",
              "  </tbody>\n",
              "</table>\n",
              "<p>590 rows × 12 columns</p>\n",
              "</div>\n",
              "      <button class=\"colab-df-convert\" onclick=\"convertToInteractive('df-95ddc6cc-3105-4a31-8bdb-bc1347e38707')\"\n",
              "              title=\"Convert this dataframe to an interactive table.\"\n",
              "              style=\"display:none;\">\n",
              "        \n",
              "  <svg xmlns=\"http://www.w3.org/2000/svg\" height=\"24px\"viewBox=\"0 0 24 24\"\n",
              "       width=\"24px\">\n",
              "    <path d=\"M0 0h24v24H0V0z\" fill=\"none\"/>\n",
              "    <path d=\"M18.56 5.44l.94 2.06.94-2.06 2.06-.94-2.06-.94-.94-2.06-.94 2.06-2.06.94zm-11 1L8.5 8.5l.94-2.06 2.06-.94-2.06-.94L8.5 2.5l-.94 2.06-2.06.94zm10 10l.94 2.06.94-2.06 2.06-.94-2.06-.94-.94-2.06-.94 2.06-2.06.94z\"/><path d=\"M17.41 7.96l-1.37-1.37c-.4-.4-.92-.59-1.43-.59-.52 0-1.04.2-1.43.59L10.3 9.45l-7.72 7.72c-.78.78-.78 2.05 0 2.83L4 21.41c.39.39.9.59 1.41.59.51 0 1.02-.2 1.41-.59l7.78-7.78 2.81-2.81c.8-.78.8-2.07 0-2.86zM5.41 20L4 18.59l7.72-7.72 1.47 1.35L5.41 20z\"/>\n",
              "  </svg>\n",
              "      </button>\n",
              "      \n",
              "  <style>\n",
              "    .colab-df-container {\n",
              "      display:flex;\n",
              "      flex-wrap:wrap;\n",
              "      gap: 12px;\n",
              "    }\n",
              "\n",
              "    .colab-df-convert {\n",
              "      background-color: #E8F0FE;\n",
              "      border: none;\n",
              "      border-radius: 50%;\n",
              "      cursor: pointer;\n",
              "      display: none;\n",
              "      fill: #1967D2;\n",
              "      height: 32px;\n",
              "      padding: 0 0 0 0;\n",
              "      width: 32px;\n",
              "    }\n",
              "\n",
              "    .colab-df-convert:hover {\n",
              "      background-color: #E2EBFA;\n",
              "      box-shadow: 0px 1px 2px rgba(60, 64, 67, 0.3), 0px 1px 3px 1px rgba(60, 64, 67, 0.15);\n",
              "      fill: #174EA6;\n",
              "    }\n",
              "\n",
              "    [theme=dark] .colab-df-convert {\n",
              "      background-color: #3B4455;\n",
              "      fill: #D2E3FC;\n",
              "    }\n",
              "\n",
              "    [theme=dark] .colab-df-convert:hover {\n",
              "      background-color: #434B5C;\n",
              "      box-shadow: 0px 1px 3px 1px rgba(0, 0, 0, 0.15);\n",
              "      filter: drop-shadow(0px 1px 2px rgba(0, 0, 0, 0.3));\n",
              "      fill: #FFFFFF;\n",
              "    }\n",
              "  </style>\n",
              "\n",
              "      <script>\n",
              "        const buttonEl =\n",
              "          document.querySelector('#df-95ddc6cc-3105-4a31-8bdb-bc1347e38707 button.colab-df-convert');\n",
              "        buttonEl.style.display =\n",
              "          google.colab.kernel.accessAllowed ? 'block' : 'none';\n",
              "\n",
              "        async function convertToInteractive(key) {\n",
              "          const element = document.querySelector('#df-95ddc6cc-3105-4a31-8bdb-bc1347e38707');\n",
              "          const dataTable =\n",
              "            await google.colab.kernel.invokeFunction('convertToInteractive',\n",
              "                                                     [key], {});\n",
              "          if (!dataTable) return;\n",
              "\n",
              "          const docLinkHtml = 'Like what you see? Visit the ' +\n",
              "            '<a target=\"_blank\" href=https://colab.research.google.com/notebooks/data_table.ipynb>data table notebook</a>'\n",
              "            + ' to learn more about interactive tables.';\n",
              "          element.innerHTML = '';\n",
              "          dataTable['output_type'] = 'display_data';\n",
              "          await google.colab.output.renderOutput(dataTable, element);\n",
              "          const docLink = document.createElement('div');\n",
              "          docLink.innerHTML = docLinkHtml;\n",
              "          element.appendChild(docLink);\n",
              "        }\n",
              "      </script>\n",
              "    </div>\n",
              "  </div>\n",
              "  "
            ],
            "text/plain": [
              "                            country  year  country_code        record  \\\n",
              "1096                        Algeria  2016             4    AreaPerCap   \n",
              "1097                        Algeria  2016             4     AreaTotHA   \n",
              "1098                        Algeria  2016             4  BiocapPerCap   \n",
              "1099                        Algeria  2016             4  BiocapTotGHA   \n",
              "1100                        Algeria  2016             4  EFConsPerCap   \n",
              "...                             ...   ...           ...           ...   \n",
              "11414                          Cuba  1984            49  EFProdPerCap   \n",
              "42819  Tanzania, United Republic of  2008           215  BiocapPerCap   \n",
              "6847                        Burundi  1973            29  EFProdTotGHA   \n",
              "521                     Afghanistan  2001             2     AreaTotHA   \n",
              "19532                         India  1998           100  EFConsPerCap   \n",
              "\n",
              "          crop_land  grazing_land  forest_land  fishing_ground  built_up_land  \\\n",
              "1096   2.072989e-01  8.112722e-01  0.048357265        0.022585   2.998367e-02   \n",
              "1097   8.417600e+06  3.294260e+07      1963600   917100.000000   1.217520e+06   \n",
              "1098   2.021916e-01  2.636077e-01  0.027166736        0.007948   2.924496e-02   \n",
              "1099   8.210214e+06  1.070408e+07  1103135.245   322736.916200   1.187524e+06   \n",
              "1100   6.280528e-01  1.810332e-01  0.162800822        0.014729   2.924496e-02   \n",
              "...             ...           ...          ...             ...            ...   \n",
              "11414  4.150308e-01  1.000905e-01  0.130761699        0.172790   3.659940e-02   \n",
              "42819  3.430778e-01  3.740505e-01  0.193148826        0.067748   4.556231e-02   \n",
              "6847   1.790073e+06  6.725663e+05   1559485.15    35817.608240   1.277430e+05   \n",
              "521    7.753000e+06  3.000000e+07      1350000        0.000000   9.422190e+05   \n",
              "19532  3.461404e-01  8.512985e-03    0.1400516        0.017039   3.869196e-02   \n",
              "\n",
              "             carbon         total QScore  \n",
              "1096       0.000000  1.119497e+00     2A  \n",
              "1097       0.000000  4.545842e+07     2A  \n",
              "1098       0.000000  5.301590e-01     2A  \n",
              "1099       0.000000  2.152769e+07     2A  \n",
              "1100       1.391455  2.407316e+00     2A  \n",
              "...             ...           ...    ...  \n",
              "11414      1.233352  2.088625e+00     3A  \n",
              "42819      0.000000  1.023587e+00     3A  \n",
              "6847   26565.285310  4.212251e+06     3A  \n",
              "521        0.000000  4.004522e+07     3A  \n",
              "19532      0.310489  8.609249e-01     3A  \n",
              "\n",
              "[590 rows x 12 columns]"
            ]
          },
          "metadata": {},
          "execution_count": 13
        }
      ]
    },
    {
      "cell_type": "code",
      "source": [
        "#to reshuffle the dataset for randomness\n",
        "import sklearn.utils\n",
        "data_df = sklearn.utils.shuffle(data_df)\n",
        "data_df = data_df.reset_index(drop=True)\n",
        "data_df.shape\n",
        "data_df.QScore.value_counts()\n",
        "#prints"
      ],
      "metadata": {
        "colab": {
          "base_uri": "https://localhost:8080/"
        },
        "id": "NOJCLWVlubsi",
        "outputId": "a9036608-2648-4860-b4e5-e8907a6c35aa"
      },
      "execution_count": 14,
      "outputs": [
        {
          "output_type": "execute_result",
          "data": {
            "text/plain": [
              "3A    350\n",
              "2A    240\n",
              "Name: QScore, dtype: int64"
            ]
          },
          "metadata": {},
          "execution_count": 14
        }
      ]
    },
    {
      "cell_type": "code",
      "source": [
        "#check the datatype of the dataset\n",
        "data_df.dtypes\n",
        "\n",
        "# from the above, we will be dropping country code, country and year\n",
        "#because they are ambiguous to what we want to predict\n",
        "#and also we will encode the record feature"
      ],
      "metadata": {
        "id": "Jj1pWB5Huh7h",
        "colab": {
          "base_uri": "https://localhost:8080/"
        },
        "outputId": "1773ee03-9f7a-4cd6-915d-2bf6b33d964a"
      },
      "execution_count": 15,
      "outputs": [
        {
          "output_type": "execute_result",
          "data": {
            "text/plain": [
              "country            object\n",
              "year                int64\n",
              "country_code        int64\n",
              "record             object\n",
              "crop_land         float64\n",
              "grazing_land      float64\n",
              "forest_land        object\n",
              "fishing_ground    float64\n",
              "built_up_land     float64\n",
              "carbon            float64\n",
              "total             float64\n",
              "QScore             object\n",
              "dtype: object"
            ]
          },
          "metadata": {},
          "execution_count": 15
        }
      ]
    },
    {
      "cell_type": "code",
      "source": [
        "#on of the features is categorical, so we need to encode it ahead\n",
        "from sklearn.preprocessing import LabelEncoder\n",
        "encoder = LabelEncoder()\n",
        "data_df.record = encoder.fit_transform(data_df.record)"
      ],
      "metadata": {
        "id": "-BAh-rbIyc-I"
      },
      "execution_count": 16,
      "outputs": []
    },
    {
      "cell_type": "code",
      "source": [
        "#preview the encoded features\n",
        "data_df.record"
      ],
      "metadata": {
        "colab": {
          "base_uri": "https://localhost:8080/"
        },
        "id": "3wNqh_i55O2K",
        "outputId": "91752cb9-75d9-444b-b9de-93471466c595"
      },
      "execution_count": 17,
      "outputs": [
        {
          "output_type": "execute_result",
          "data": {
            "text/plain": [
              "0      5\n",
              "1      6\n",
              "2      5\n",
              "3      0\n",
              "4      5\n",
              "      ..\n",
              "585    2\n",
              "586    0\n",
              "587    5\n",
              "588    6\n",
              "589    6\n",
              "Name: record, Length: 590, dtype: int64"
            ]
          },
          "metadata": {},
          "execution_count": 17
        }
      ]
    },
    {
      "cell_type": "code",
      "source": [
        "#more preprocessing\n",
        "data_df = data_df.drop(columns=['country_code', 'country', 'year'])\n",
        "X = data_df.drop(columns='QScore')\n",
        "y = data_df['QScore']"
      ],
      "metadata": {
        "id": "03HWmcgr6ENS"
      },
      "execution_count": 18,
      "outputs": []
    },
    {
      "cell_type": "code",
      "source": [
        "#split the data into training and testing sets\n",
        "from sklearn.model_selection import train_test_split\n",
        "x_train, x_test, y_train, y_test = train_test_split(X, y, test_size=0.3, random_state=0)\n",
        "y_train.value_counts()\n",
        "\n",
        "#installing imblearn module (uncomment the pip command to install imblearn)\n",
        "#!pip install imblearn\n",
        "\n",
        "#encode categorical variable\n",
        "#from sklearn.preprocessing import LabelEncoder\n",
        "#encoder = LabelEncoder()\n",
        "#x_train.record = encoder.fit_transform(x_train.record)\n",
        "#x_test.record = encoder.transform(x_test.record)\n",
        "\n",
        "#the encoded feature\n",
        "x_train.record"
      ],
      "metadata": {
        "colab": {
          "base_uri": "https://localhost:8080/"
        },
        "id": "tOdQpqjQ_Byc",
        "outputId": "ea51510f-d4ab-4905-d34e-58c61859d7ee"
      },
      "execution_count": 19,
      "outputs": [
        {
          "output_type": "execute_result",
          "data": {
            "text/plain": [
              "285    7\n",
              "113    3\n",
              "18     7\n",
              "76     7\n",
              "206    4\n",
              "      ..\n",
              "277    4\n",
              "9      3\n",
              "359    7\n",
              "192    1\n",
              "559    6\n",
              "Name: record, Length: 413, dtype: int64"
            ]
          },
          "metadata": {},
          "execution_count": 19
        }
      ]
    },
    {
      "cell_type": "code",
      "source": [
        "#for the imbalance in the class distribution, we use SMOTE on the training data to handle this\n",
        "import imblearn\n",
        "from imblearn.over_sampling import SMOTE\n",
        "smote = SMOTE(random_state=1)\n",
        "x_train_balanced, y_balanced = smote.fit_resample(x_train, y_train)\n",
        "y_train.value_counts()"
      ],
      "metadata": {
        "colab": {
          "base_uri": "https://localhost:8080/"
        },
        "id": "5BzhdLTFAO7w",
        "outputId": "3b378f94-e8ff-43b9-84ef-cbae91728770"
      },
      "execution_count": 20,
      "outputs": [
        {
          "output_type": "execute_result",
          "data": {
            "text/plain": [
              "3A    240\n",
              "2A    173\n",
              "Name: QScore, dtype: int64"
            ]
          },
          "metadata": {},
          "execution_count": 20
        }
      ]
    },
    {
      "cell_type": "code",
      "source": [
        "#min max scaler\n",
        "from sklearn.preprocessing import MinMaxScaler\n",
        "scaler = MinMaxScaler()\n",
        "normalised_train_df = scaler.fit_transform(x_train_balanced.drop(columns=['record']))\n",
        "normalised_train_df = pd.DataFrame(normalised_train_df, columns=x_train_balanced.drop(columns=['record']).columns)\n",
        "normalised_train_df['record'] = x_train_balanced['record']"
      ],
      "metadata": {
        "id": "vSlIDkcJTGPn"
      },
      "execution_count": 21,
      "outputs": []
    },
    {
      "cell_type": "code",
      "source": [
        "x_test = x_test.reset_index(drop=True)\n",
        "normalised_test_df = scaler.fit_transform(x_test.drop(columns=['record']))\n",
        "normalised_test_df = pd.DataFrame(normalised_test_df, columns=x_test.drop(columns=['record']).columns)\n",
        "normalised_test_df['record'] = x_test['record']"
      ],
      "metadata": {
        "id": "E0Y5idZoK8R4"
      },
      "execution_count": 22,
      "outputs": []
    },
    {
      "cell_type": "code",
      "source": [
        "#logistic regression\n",
        "from sklearn.linear_model import LogisticRegression\n",
        "log_reg = LogisticRegression()\n",
        "log_reg.fit(normalised_train_df, y_balanced)"
      ],
      "metadata": {
        "colab": {
          "base_uri": "https://localhost:8080/"
        },
        "id": "WmqwpGCvSy_6",
        "outputId": "b845d29d-8b84-4196-fc3d-b20061e19425"
      },
      "execution_count": 23,
      "outputs": [
        {
          "output_type": "execute_result",
          "data": {
            "text/plain": [
              "LogisticRegression()"
            ]
          },
          "metadata": {},
          "execution_count": 23
        }
      ]
    },
    {
      "cell_type": "code",
      "source": [
        "#measuring classification performance\n"
      ],
      "metadata": {
        "id": "uJE7mb3VU72G"
      },
      "execution_count": 24,
      "outputs": []
    },
    {
      "cell_type": "code",
      "source": [
        "#cross validation score\n",
        "from sklearn.model_selection import cross_val_score\n",
        "scores = cross_val_score(log_reg, normalised_train_df, y_balanced, cv=5, scoring='f1_macro')\n",
        "scores"
      ],
      "metadata": {
        "colab": {
          "base_uri": "https://localhost:8080/"
        },
        "id": "-SalRtyOfQo5",
        "outputId": "2d6a9f23-6e74-4f41-a4cf-57639a9049dc"
      },
      "execution_count": 25,
      "outputs": [
        {
          "output_type": "execute_result",
          "data": {
            "text/plain": [
              "array([0.46730497, 0.53170732, 0.48952794, 0.55299335, 0.49975186])"
            ]
          },
          "metadata": {},
          "execution_count": 25
        }
      ]
    },
    {
      "cell_type": "code",
      "source": [
        "#confusion matrix\n",
        "from sklearn.metrics import recall_score, accuracy_score, precision_score, f1_score, confusion_matrix\n",
        "new_predictions = log_reg.predict(normalised_test_df)\n",
        "cnf_mat = confusion_matrix(y_true=y_test, y_pred=new_predictions, labels=['2A', '3A'])\n",
        "cnf_mat"
      ],
      "metadata": {
        "colab": {
          "base_uri": "https://localhost:8080/"
        },
        "id": "08tA2Bp60Zb1",
        "outputId": "0c98decc-be45-4677-954a-ff0fe8d6efd5"
      },
      "execution_count": 26,
      "outputs": [
        {
          "output_type": "execute_result",
          "data": {
            "text/plain": [
              "array([[33, 34],\n",
              "       [53, 57]])"
            ]
          },
          "metadata": {},
          "execution_count": 26
        }
      ]
    },
    {
      "cell_type": "code",
      "source": [
        "#METRICS\n",
        "\n",
        "#Accuracy\n",
        "accuracy = accuracy_score(y_true=y_test, y_pred=new_predictions)\n",
        "print('Accuracy:{}'.format(round(accuracy*100), 2))\n",
        "#prints"
      ],
      "metadata": {
        "colab": {
          "base_uri": "https://localhost:8080/"
        },
        "id": "SX1e7hnD_QhW",
        "outputId": "db446867-2179-4b8f-d445-0b6465dc775f"
      },
      "execution_count": 27,
      "outputs": [
        {
          "output_type": "stream",
          "name": "stdout",
          "text": [
            "Accuracy:51\n"
          ]
        }
      ]
    },
    {
      "cell_type": "code",
      "source": [
        "#Precision\n",
        "precision = precision_score(y_true=y_test, y_pred=new_predictions, pos_label='2A')\n",
        "print('Precision: {}'.format(round(precision*100), 2))\n",
        "#prints\n",
        "\n"
      ],
      "metadata": {
        "colab": {
          "base_uri": "https://localhost:8080/"
        },
        "id": "uEtCizZ6CWLp",
        "outputId": "f3710b7d-94a6-4d1f-8aaf-619f717a7cb0"
      },
      "execution_count": 28,
      "outputs": [
        {
          "output_type": "stream",
          "name": "stdout",
          "text": [
            "Precision: 38\n"
          ]
        }
      ]
    },
    {
      "cell_type": "code",
      "source": [
        "#Recall\n",
        "recall = recall_score(y_true=y_test, y_pred=new_predictions, pos_label='2A')\n",
        "print('Recall: {}'.format(round(recall*100), 2))\n",
        "#prints"
      ],
      "metadata": {
        "colab": {
          "base_uri": "https://localhost:8080/"
        },
        "id": "CA-0VkAnETWL",
        "outputId": "d5df7801-8810-43e7-b52b-6e787934b226"
      },
      "execution_count": 29,
      "outputs": [
        {
          "output_type": "stream",
          "name": "stdout",
          "text": [
            "Recall: 49\n"
          ]
        }
      ]
    },
    {
      "cell_type": "code",
      "source": [
        "#F1-score\n",
        "f1 = f1_score(y_true=y_test, y_pred=new_predictions, pos_label='2A')\n",
        "print('F1: {}'.format(round(f1*100), 2))\n",
        "#prints"
      ],
      "metadata": {
        "colab": {
          "base_uri": "https://localhost:8080/"
        },
        "id": "nLD_zUhFFMrF",
        "outputId": "bf49bca7-199e-4778-dfd3-e2d5e0cd3f6a"
      },
      "execution_count": 34,
      "outputs": [
        {
          "output_type": "stream",
          "name": "stdout",
          "text": [
            "F1: 43\n"
          ]
        }
      ]
    },
    {
      "cell_type": "code",
      "source": [
        "\n",
        "#K-Fold cross validation\n",
        "from sklearn.model_selection import KFold\n",
        "kf = KFold(n_splits=5)\n",
        "kf.split(normalised_train_df)\n",
        "f1_scores = []\n",
        "\n",
        "#run for every split\n",
        "for train_index, text_index in kf.split(normalised_train_df):\n",
        "  x_train, x_test = normalised_train_df.iloc[train_index], normalised_train_df.iloc[test_index]\n",
        "  y_train, y_test = y_balanced[train_index], y_balanced[test_index]\n",
        "  model = LogisticRegression().fit(x_train, y_train)\n",
        "  #save result to list\n",
        "  f1_scores.append(f1_score(y_true = y_test2, y_pred = model.predict(x_test), pos_label='2A')*100)\n",
        "\n",
        "  f1_scores\n"
      ],
      "metadata": {
        "id": "NcBofVJShujJ"
      },
      "execution_count": 58,
      "outputs": []
    },
    {
      "cell_type": "code",
      "source": [
        "#Stratified KFold\n",
        "from sklearn.model_selection import StratifiedKFold\n",
        "skf = StratifiedKFold(n_splits=5, shuffle=True, random_state=1)\n",
        "sk_f1_scores = []\n",
        "#run for every split\n",
        "for train_index, test_index in skf.split(normalised_train_df, y_balanced):\n",
        "  x_train, x_test = np.array(normalised_train_df)[train_index], np.array(normalised_train_df)[test_index]\n",
        "  y_train, y_test3 = y_balanced[train_index], y_balanced[test_index]\n",
        "  model = LogisticRegression().fit(x_train, y_train)\n",
        "  #save result to list\n",
        "  sk_f1_scores.append(f1_score(y_true = y_test, y_pred = model.predict(x_test), pos_label = '2A')*100)\n",
        "  sk_f1_scores"
      ],
      "metadata": {
        "id": "74kYsH-A_nhb"
      },
      "execution_count": 59,
      "outputs": []
    },
    {
      "cell_type": "code",
      "source": [
        "from numpy.core.numeric import cross\n",
        "#LeaveOneOut\n",
        "from sklearn.model_selection import LeaveOneOut\n",
        "loo = LeaveOneOut()\n",
        "scores = cross_val_score(LogisticRegression(), normalised_train_df, y_balanced, cv=loo, scoring='f1_macro')\n",
        "average_score = scores.mean() * 100\n",
        "average_score"
      ],
      "metadata": {
        "id": "JHbTIb8UHYV6",
        "colab": {
          "base_uri": "https://localhost:8080/"
        },
        "outputId": "169b3cfb-8415-493b-a9ff-c821cb06c9e1"
      },
      "execution_count": 60,
      "outputs": [
        {
          "output_type": "execute_result",
          "data": {
            "text/plain": [
              "51.87500000000001"
            ]
          },
          "metadata": {},
          "execution_count": 60
        }
      ]
    },
    {
      "cell_type": "code",
      "source": [
        "#Tree-based method and the support vector machine\n",
        "from sklearn.tree import DecisionTreeClassifier\n",
        "dec_tree = DecisionTreeClassifier()\n",
        "dec_tree.fit(normalised_train_df, y_balanced)"
      ],
      "metadata": {
        "id": "pX7wvN5e_OWq",
        "colab": {
          "base_uri": "https://localhost:8080/"
        },
        "outputId": "9e3e7e83-1188-4324-ee08-421c90399e45"
      },
      "execution_count": 61,
      "outputs": [
        {
          "output_type": "execute_result",
          "data": {
            "text/plain": [
              "DecisionTreeClassifier()"
            ]
          },
          "metadata": {},
          "execution_count": 61
        }
      ]
    },
    {
      "cell_type": "code",
      "source": [
        "#make precision with decision tree\n",
        "dec_tree_pred = dec_tree.predict(normalised_test_df)"
      ],
      "metadata": {
        "id": "cTiU2fvhyiu9"
      },
      "execution_count": 62,
      "outputs": []
    },
    {
      "cell_type": "code",
      "source": [
        "#preview result\n",
        "dec_tree_pred"
      ],
      "metadata": {
        "colab": {
          "base_uri": "https://localhost:8080/"
        },
        "id": "i5ayBC9MIZHe",
        "outputId": "5f6572f7-16e6-458c-ac4b-51fe951a2e00"
      },
      "execution_count": 91,
      "outputs": [
        {
          "output_type": "execute_result",
          "data": {
            "text/plain": [
              "array(['3A', '3A', '2A', '3A', '3A', '3A', '3A', '2A', '3A', '3A', '2A',\n",
              "       '3A', '3A', '2A', '3A', '3A', '3A', '3A', '3A', '3A', '3A', '2A',\n",
              "       '2A', '3A', '2A', '3A', '3A', '3A', '3A', '3A', '2A', '2A', '3A',\n",
              "       '3A', '3A', '2A', '3A', '3A', '3A', '3A', '3A', '2A', '3A', '3A',\n",
              "       '3A', '3A', '3A', '2A', '2A', '2A', '2A', '2A', '3A', '2A', '2A',\n",
              "       '3A', '3A', '3A', '2A', '3A', '2A', '3A', '3A', '3A', '3A', '2A',\n",
              "       '3A', '2A', '2A', '3A', '3A', '2A', '3A', '2A', '3A', '3A', '3A',\n",
              "       '2A', '3A', '2A', '3A', '3A', '2A', '3A', '3A', '2A', '2A', '3A',\n",
              "       '2A', '2A', '2A', '2A', '3A', '2A', '2A', '3A', '2A', '3A', '2A',\n",
              "       '2A', '2A', '3A', '3A', '2A', '2A', '2A', '2A', '2A', '2A', '2A',\n",
              "       '3A', '3A', '2A', '3A', '3A', '3A', '2A', '2A', '2A', '3A', '3A',\n",
              "       '2A', '2A', '2A', '3A', '3A', '3A', '3A', '3A', '2A', '3A', '3A',\n",
              "       '2A', '3A', '3A', '2A', '3A', '2A', '3A', '3A', '2A', '3A', '3A',\n",
              "       '3A', '3A', '3A', '2A', '3A', '2A', '2A', '2A', '3A', '3A', '2A',\n",
              "       '3A', '2A', '3A', '3A', '2A', '3A', '3A', '3A', '3A', '3A', '3A',\n",
              "       '3A', '2A', '3A', '2A', '3A', '3A', '3A', '3A', '2A', '2A', '3A',\n",
              "       '3A'], dtype=object)"
            ]
          },
          "metadata": {},
          "execution_count": 91
        }
      ]
    },
    {
      "cell_type": "code",
      "source": [
        "dec_tree_pred.shape"
      ],
      "metadata": {
        "colab": {
          "base_uri": "https://localhost:8080/"
        },
        "id": "MtYL2orBJ8OM",
        "outputId": "371cd73a-ece2-428e-9299-81e804252fd4"
      },
      "execution_count": 102,
      "outputs": [
        {
          "output_type": "execute_result",
          "data": {
            "text/plain": [
              "(177,)"
            ]
          },
          "metadata": {},
          "execution_count": 102
        }
      ]
    },
    {
      "cell_type": "code",
      "source": [
        "y_test.shape"
      ],
      "metadata": {
        "colab": {
          "base_uri": "https://localhost:8080/"
        },
        "id": "QkpklGZ4KE73",
        "outputId": "c28ac5b4-43fd-473f-893b-cabb253dd63c"
      },
      "execution_count": 69,
      "outputs": [
        {
          "output_type": "execute_result",
          "data": {
            "text/plain": [
              "(96,)"
            ]
          },
          "metadata": {},
          "execution_count": 69
        }
      ]
    },
    {
      "cell_type": "code",
      "source": [
        "new_predictions.shape"
      ],
      "metadata": {
        "colab": {
          "base_uri": "https://localhost:8080/"
        },
        "id": "OA4bS4YhKKIT",
        "outputId": "e557445d-e994-4d15-bba4-2316c0ebce59"
      },
      "execution_count": 70,
      "outputs": [
        {
          "output_type": "execute_result",
          "data": {
            "text/plain": [
              "(177,)"
            ]
          },
          "metadata": {},
          "execution_count": 70
        }
      ]
    },
    {
      "cell_type": "code",
      "source": [
        "normalised_test_df.shape"
      ],
      "metadata": {
        "colab": {
          "base_uri": "https://localhost:8080/"
        },
        "id": "Nxq5RiZsKZ-b",
        "outputId": "68354a2d-014c-4599-a580-1b2d9fe76465"
      },
      "execution_count": 103,
      "outputs": [
        {
          "output_type": "execute_result",
          "data": {
            "text/plain": [
              "(177, 8)"
            ]
          },
          "metadata": {},
          "execution_count": 103
        }
      ]
    },
    {
      "cell_type": "code",
      "source": [
        ""
      ],
      "metadata": {
        "id": "lMcBmgHdKeGt"
      },
      "execution_count": null,
      "outputs": []
    }
  ]
}